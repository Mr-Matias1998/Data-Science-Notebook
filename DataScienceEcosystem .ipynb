{
 "cells": [
  {
   "cell_type": "markdown",
   "id": "4193e221-bef1-42d0-ac37-da153bdf2be7",
   "metadata": {},
   "source": [
    "# Data Science Tools and Ecosystem"
   ]
  },
  {
   "cell_type": "markdown",
   "id": "2a6d3615-cdf0-4017-8f1f-1d3502d5d1e5",
   "metadata": {},
   "source": [
    "# Introduction\n",
    "In this notebook, Data Science Tools and Ecosystem are summarized."
   ]
  },
  {
   "cell_type": "markdown",
   "id": "db8e4ad6-a8ad-4462-b84a-d6a4dc759c5a",
   "metadata": {},
   "source": [
    "## Data Science Lenguages\n",
    "Some of the popular lenguages that Data Sciencists use are:\n",
    "1. Python\n",
    "2. R\n",
    "3. SQL\n",
    "4. Julia"
   ]
  },
  {
   "cell_type": "markdown",
   "id": "aa73eb0b-a64a-441a-a525-d7a6f033f6db",
   "metadata": {},
   "source": [
    "## Data Science Libraries\n",
    "Some of the commonly used libraries used by Data Scientists include:\n",
    "1. Pandas\n",
    "2. NumPy\n",
    "3. Matplotlib\n",
    "4. Scikit-learn"
   ]
  },
  {
   "cell_type": "markdown",
   "id": "88121756-6850-4926-afc9-578f0fbaa536",
   "metadata": {},
   "source": [
    "## Data Science Tools\n",
    "| Data Science Tools      |\n",
    "|-------------------------|\n",
    "| Jupyter Notebook         |\n",
    "| RStudio                 |\n",
    "| Apache Zeppelin         |\n"
   ]
  },
  {
   "cell_type": "markdown",
   "id": "8e75edfd-542b-41d7-b948-b5d188b46d1c",
   "metadata": {},
   "source": [
    "### Arithmetic Expression Examples\n",
    "Below are a few examples of evaluating arithmetic expressions in Python."
   ]
  },
  {
   "cell_type": "code",
   "execution_count": 20,
   "id": "e42e132e-db3c-45fa-9799-24a15d62ebcb",
   "metadata": {},
   "outputs": [
    {
     "data": {
      "text/plain": [
       "17"
      ]
     },
     "execution_count": 20,
     "metadata": {},
     "output_type": "execute_result"
    }
   ],
   "source": [
    "# This is a simple arithmetic expression to multiply then add integers.\n",
    "result = (3 * 4) + 5\n",
    "result"
   ]
  },
  {
   "cell_type": "code",
   "execution_count": 29,
   "id": "8626979c-f148-4237-99c9-c4f6ea6c021c",
   "metadata": {},
   "outputs": [
    {
     "data": {
      "text/plain": [
       "3.3333333333333335"
      ]
     },
     "execution_count": 29,
     "metadata": {},
     "output_type": "execute_result"
    }
   ],
   "source": [
    "# This will convert 200 minutes to hours by dividing by 60.\n",
    "minutes = 200\n",
    "hours = minutes / 60\n",
    "hours"
   ]
  },
  {
   "cell_type": "markdown",
   "id": "6fec4e84-2bfd-4aea-be4c-68b152d3689c",
   "metadata": {},
   "source": [
    "**Objectives:**\n",
    "- List popular languages for Data Science.\n",
    "- Summarize commonly used libraries in Data Science.\n",
    "- Identify Data Science tools and environments.\n",
    "- Demonstrate arithmetic operations in Python.\n",
    "- Convert minutes to hours using Python."
   ]
  },
  {
   "cell_type": "code",
   "execution_count": null,
   "id": "494b1279-ba03-4b52-8641-17adf30473e4",
   "metadata": {},
   "outputs": [],
   "source": []
  }
 ],
 "metadata": {
  "kernelspec": {
   "display_name": "Python 3 (ipykernel)",
   "language": "python",
   "name": "python3"
  },
  "language_info": {
   "codemirror_mode": {
    "name": "ipython",
    "version": 3
   },
   "file_extension": ".py",
   "mimetype": "text/x-python",
   "name": "python",
   "nbconvert_exporter": "python",
   "pygments_lexer": "ipython3",
   "version": "3.12.7"
  }
 },
 "nbformat": 4,
 "nbformat_minor": 5
}
